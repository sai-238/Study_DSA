{
 "cells": [
  {
   "cell_type": "code",
   "execution_count": 4,
   "metadata": {},
   "outputs": [],
   "source": [
    "from urllib import request\n",
    "import re"
   ]
  },
  {
   "cell_type": "code",
   "execution_count": 5,
   "metadata": {},
   "outputs": [],
   "source": [
    "class WebCrawler:\n",
    "    def __init__(self):\n",
    "        self.discovered_websites = []\n",
    "\n",
    "    # BFS implementation\n",
    "    def crawl(self, start_url):\n",
    "        queue = [start_url]\n",
    "        self.discovered_websites.append(start_url)\n",
    "\n",
    "        while queue:\n",
    "            actual_url = queue.pop(0)\n",
    "            print(actual_url)\n",
    "\n",
    "            # This is the raw HTML representation of the website (URL)\n",
    "            actual_url_html = self.read_raw_html(actual_url)\n",
    "\n",
    "            if actual_url_html:\n",
    "                for url in self.get_links_from_html(actual_url_html):\n",
    "                    if url not in self.discovered_websites:\n",
    "                        self.discovered_websites.append(url)\n",
    "                        queue.append(url)\n",
    "\n",
    "    def get_links_from_html(self, raw_html):\n",
    "        return re.findall(r'https?://(?:[-\\w.]|(?:%[\\da-fA-F]{2}))+', raw_html)\n",
    "\n",
    "    def read_raw_html(self, url):\n",
    "        raw_html = \" \"\n",
    "\n",
    "        try:\n",
    "            response = request.urlopen(url)\n",
    "            raw_html = response.read().decode('utf-8')\n",
    "        except Exception as e:\n",
    "            pass\n",
    "\n",
    "        return raw_html\n"
   ]
  },
  {
   "cell_type": "code",
   "execution_count": 6,
   "metadata": {},
   "outputs": [
    {
     "name": "stdout",
     "output_type": "stream",
     "text": [
      "https://neetcode.io\n",
      "https://connect.facebook.net\n",
      "https://www.facebook.com\n",
      "https://m.facebook.com\n",
      "https://static.xx.fbcdn.net\n",
      "https://ur-pk.facebook.com\n"
     ]
    },
    {
     "ename": "KeyboardInterrupt",
     "evalue": "",
     "output_type": "error",
     "traceback": [
      "\u001b[1;31m---------------------------------------------------------------------------\u001b[0m",
      "\u001b[1;31mKeyboardInterrupt\u001b[0m                         Traceback (most recent call last)",
      "\u001b[1;32mc:\\DSA\\webcrawler.ipynb Cell 3\u001b[0m line \u001b[0;36m2\n\u001b[0;32m      <a href='vscode-notebook-cell:/c%3A/DSA/webcrawler.ipynb#W2sZmlsZQ%3D%3D?line=0'>1</a>\u001b[0m crawler \u001b[39m=\u001b[39m WebCrawler()\n\u001b[1;32m----> <a href='vscode-notebook-cell:/c%3A/DSA/webcrawler.ipynb#W2sZmlsZQ%3D%3D?line=1'>2</a>\u001b[0m crawler\u001b[39m.\u001b[39;49mcrawl(\u001b[39m'\u001b[39;49m\u001b[39mhttps://neetcode.io\u001b[39;49m\u001b[39m'\u001b[39;49m)\n",
      "\u001b[1;32mc:\\DSA\\webcrawler.ipynb Cell 3\u001b[0m line \u001b[0;36m1\n\u001b[0;32m     <a href='vscode-notebook-cell:/c%3A/DSA/webcrawler.ipynb#W2sZmlsZQ%3D%3D?line=11'>12</a>\u001b[0m \u001b[39mprint\u001b[39m(actual_url)\n\u001b[0;32m     <a href='vscode-notebook-cell:/c%3A/DSA/webcrawler.ipynb#W2sZmlsZQ%3D%3D?line=13'>14</a>\u001b[0m \u001b[39m# This is the raw HTML representation of the website (URL)\u001b[39;00m\n\u001b[1;32m---> <a href='vscode-notebook-cell:/c%3A/DSA/webcrawler.ipynb#W2sZmlsZQ%3D%3D?line=14'>15</a>\u001b[0m actual_url_html \u001b[39m=\u001b[39m \u001b[39mself\u001b[39;49m\u001b[39m.\u001b[39;49mread_raw_html(actual_url)\n\u001b[0;32m     <a href='vscode-notebook-cell:/c%3A/DSA/webcrawler.ipynb#W2sZmlsZQ%3D%3D?line=16'>17</a>\u001b[0m \u001b[39mif\u001b[39;00m actual_url_html:\n\u001b[0;32m     <a href='vscode-notebook-cell:/c%3A/DSA/webcrawler.ipynb#W2sZmlsZQ%3D%3D?line=17'>18</a>\u001b[0m     \u001b[39mfor\u001b[39;00m url \u001b[39min\u001b[39;00m \u001b[39mself\u001b[39m\u001b[39m.\u001b[39mget_links_from_html(actual_url_html):\n",
      "\u001b[1;32mc:\\DSA\\webcrawler.ipynb Cell 3\u001b[0m line \u001b[0;36m3\n\u001b[0;32m     <a href='vscode-notebook-cell:/c%3A/DSA/webcrawler.ipynb#W2sZmlsZQ%3D%3D?line=28'>29</a>\u001b[0m \u001b[39mtry\u001b[39;00m:\n\u001b[0;32m     <a href='vscode-notebook-cell:/c%3A/DSA/webcrawler.ipynb#W2sZmlsZQ%3D%3D?line=29'>30</a>\u001b[0m     response \u001b[39m=\u001b[39m request\u001b[39m.\u001b[39murlopen(url)\n\u001b[1;32m---> <a href='vscode-notebook-cell:/c%3A/DSA/webcrawler.ipynb#W2sZmlsZQ%3D%3D?line=30'>31</a>\u001b[0m     raw_html \u001b[39m=\u001b[39m response\u001b[39m.\u001b[39;49mread()\u001b[39m.\u001b[39mdecode(\u001b[39m'\u001b[39m\u001b[39mutf-8\u001b[39m\u001b[39m'\u001b[39m)\n\u001b[0;32m     <a href='vscode-notebook-cell:/c%3A/DSA/webcrawler.ipynb#W2sZmlsZQ%3D%3D?line=31'>32</a>\u001b[0m \u001b[39mexcept\u001b[39;00m \u001b[39mException\u001b[39;00m \u001b[39mas\u001b[39;00m e:\n\u001b[0;32m     <a href='vscode-notebook-cell:/c%3A/DSA/webcrawler.ipynb#W2sZmlsZQ%3D%3D?line=32'>33</a>\u001b[0m     \u001b[39mpass\u001b[39;00m\n",
      "File \u001b[1;32mC:\\Program Files\\WindowsApps\\PythonSoftwareFoundation.Python.3.11_3.11.1776.0_x64__qbz5n2kfra8p0\\Lib\\http\\client.py:479\u001b[0m, in \u001b[0;36mHTTPResponse.read\u001b[1;34m(self, amt)\u001b[0m\n\u001b[0;32m    476\u001b[0m \u001b[39melse\u001b[39;00m:\n\u001b[0;32m    477\u001b[0m     \u001b[39m# Amount is not given (unbounded read) so we must check self.length\u001b[39;00m\n\u001b[0;32m    478\u001b[0m     \u001b[39mif\u001b[39;00m \u001b[39mself\u001b[39m\u001b[39m.\u001b[39mlength \u001b[39mis\u001b[39;00m \u001b[39mNone\u001b[39;00m:\n\u001b[1;32m--> 479\u001b[0m         s \u001b[39m=\u001b[39m \u001b[39mself\u001b[39m\u001b[39m.\u001b[39mfp\u001b[39m.\u001b[39mread()\n\u001b[0;32m    480\u001b[0m     \u001b[39melse\u001b[39;00m:\n\u001b[0;32m    481\u001b[0m         \u001b[39mtry\u001b[39;00m:\n",
      "File \u001b[1;32mC:\\Program Files\\WindowsApps\\PythonSoftwareFoundation.Python.3.11_3.11.1776.0_x64__qbz5n2kfra8p0\\Lib\\socket.py:706\u001b[0m, in \u001b[0;36mSocketIO.readinto\u001b[1;34m(self, b)\u001b[0m\n\u001b[0;32m    704\u001b[0m \u001b[39mwhile\u001b[39;00m \u001b[39mTrue\u001b[39;00m:\n\u001b[0;32m    705\u001b[0m     \u001b[39mtry\u001b[39;00m:\n\u001b[1;32m--> 706\u001b[0m         \u001b[39mreturn\u001b[39;00m \u001b[39mself\u001b[39;49m\u001b[39m.\u001b[39;49m_sock\u001b[39m.\u001b[39;49mrecv_into(b)\n\u001b[0;32m    707\u001b[0m     \u001b[39mexcept\u001b[39;00m timeout:\n\u001b[0;32m    708\u001b[0m         \u001b[39mself\u001b[39m\u001b[39m.\u001b[39m_timeout_occurred \u001b[39m=\u001b[39m \u001b[39mTrue\u001b[39;00m\n",
      "File \u001b[1;32mC:\\Program Files\\WindowsApps\\PythonSoftwareFoundation.Python.3.11_3.11.1776.0_x64__qbz5n2kfra8p0\\Lib\\ssl.py:1311\u001b[0m, in \u001b[0;36mSSLSocket.recv_into\u001b[1;34m(self, buffer, nbytes, flags)\u001b[0m\n\u001b[0;32m   1307\u001b[0m     \u001b[39mif\u001b[39;00m flags \u001b[39m!=\u001b[39m \u001b[39m0\u001b[39m:\n\u001b[0;32m   1308\u001b[0m         \u001b[39mraise\u001b[39;00m \u001b[39mValueError\u001b[39;00m(\n\u001b[0;32m   1309\u001b[0m           \u001b[39m\"\u001b[39m\u001b[39mnon-zero flags not allowed in calls to recv_into() on \u001b[39m\u001b[39m%s\u001b[39;00m\u001b[39m\"\u001b[39m \u001b[39m%\u001b[39m\n\u001b[0;32m   1310\u001b[0m           \u001b[39mself\u001b[39m\u001b[39m.\u001b[39m\u001b[39m__class__\u001b[39m)\n\u001b[1;32m-> 1311\u001b[0m     \u001b[39mreturn\u001b[39;00m \u001b[39mself\u001b[39;49m\u001b[39m.\u001b[39;49mread(nbytes, buffer)\n\u001b[0;32m   1312\u001b[0m \u001b[39melse\u001b[39;00m:\n\u001b[0;32m   1313\u001b[0m     \u001b[39mreturn\u001b[39;00m \u001b[39msuper\u001b[39m()\u001b[39m.\u001b[39mrecv_into(buffer, nbytes, flags)\n",
      "File \u001b[1;32mC:\\Program Files\\WindowsApps\\PythonSoftwareFoundation.Python.3.11_3.11.1776.0_x64__qbz5n2kfra8p0\\Lib\\ssl.py:1167\u001b[0m, in \u001b[0;36mSSLSocket.read\u001b[1;34m(self, len, buffer)\u001b[0m\n\u001b[0;32m   1165\u001b[0m \u001b[39mtry\u001b[39;00m:\n\u001b[0;32m   1166\u001b[0m     \u001b[39mif\u001b[39;00m buffer \u001b[39mis\u001b[39;00m \u001b[39mnot\u001b[39;00m \u001b[39mNone\u001b[39;00m:\n\u001b[1;32m-> 1167\u001b[0m         \u001b[39mreturn\u001b[39;00m \u001b[39mself\u001b[39;49m\u001b[39m.\u001b[39;49m_sslobj\u001b[39m.\u001b[39;49mread(\u001b[39mlen\u001b[39;49m, buffer)\n\u001b[0;32m   1168\u001b[0m     \u001b[39melse\u001b[39;00m:\n\u001b[0;32m   1169\u001b[0m         \u001b[39mreturn\u001b[39;00m \u001b[39mself\u001b[39m\u001b[39m.\u001b[39m_sslobj\u001b[39m.\u001b[39mread(\u001b[39mlen\u001b[39m)\n",
      "\u001b[1;31mKeyboardInterrupt\u001b[0m: "
     ]
    }
   ],
   "source": [
    "crawler = WebCrawler()\n",
    "crawler.crawl('https://neetcode.io')"
   ]
  },
  {
   "cell_type": "code",
   "execution_count": null,
   "metadata": {},
   "outputs": [],
   "source": []
  }
 ],
 "metadata": {
  "kernelspec": {
   "display_name": "Python 3",
   "language": "python",
   "name": "python3"
  },
  "language_info": {
   "codemirror_mode": {
    "name": "ipython",
    "version": 3
   },
   "file_extension": ".py",
   "mimetype": "text/x-python",
   "name": "python",
   "nbconvert_exporter": "python",
   "pygments_lexer": "ipython3",
   "version": "3.11.6"
  }
 },
 "nbformat": 4,
 "nbformat_minor": 2
}
